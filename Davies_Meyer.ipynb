{
 "cells": [
  {
   "cell_type": "markdown",
   "metadata": {},
   "source": [
    "# Davies_Meyer:"
   ]
  },
  {
   "cell_type": "code",
   "execution_count": 206,
   "metadata": {},
   "outputs": [],
   "source": [
    "from AES import AES"
   ]
  },
  {
   "cell_type": "markdown",
   "metadata": {},
   "source": [
    "The following function splits the raw input strings into chunks of 128bit long numbers, which are ready to be encrypted by our block cipher.\n",
    "To encrypt each block, in the array of blocks, just call the method AES.encrypt(block). The output of this method is an encrypted 128bit long number."
   ]
  },
  {
   "cell_type": "code",
   "execution_count": 207,
   "metadata": {},
   "outputs": [],
   "source": [
    "def processMessage(string):\n",
    "    blocks = [string[i:i + (16 if (i+16) <= len(string) else len(string)-i)] for i in range(0, len(string), 16)]\n",
    "    for i in range(len(blocks)):\n",
    "        blocks[i] = int('0x'+''.join(hex(ord(c))[2:] for c in blocks[i]),16)\n",
    "    return blocks"
   ]
  },
  {
   "cell_type": "markdown",
   "metadata": {},
   "source": [
    "The input to the below function consists of the output blocks of the processMessage function. Write a code for the implementation of the Davies–Meyer compression function. don't forget to adjust the return value to your needs."
   ]
  },
  {
   "cell_type": "code",
   "execution_count": 208,
   "metadata": {},
   "outputs": [],
   "source": [
    "def Davis_Meyer(message, H0, AES):\n",
    "    \n",
    "    out = 0\n",
    "    \n",
    "    for i in range(len(message)):\n",
    "        \n",
    "        AES.change_key(message[i])\n",
    "        \n",
    "        if i == 0:\n",
    "            out = AES.encrypt(H0) ^ H0\n",
    "        else:\n",
    "            out = AES.encrypt(out) ^ out\n",
    "\n",
    "    return out"
   ]
  },
  {
   "cell_type": "markdown",
   "metadata": {},
   "source": [
    "Here, enter a desired line of input to be tested, preferably choose a string the length of which is a multiple of 16."
   ]
  },
  {
   "cell_type": "code",
   "execution_count": 209,
   "metadata": {},
   "outputs": [],
   "source": [
    "# string1 = input('please enter a line of input:')\n",
    "string1 = \"aaaaaaaaaaaaaaaa\"\n",
    "blocks1 = processMessage(string1)"
   ]
  },
  {
   "cell_type": "markdown",
   "metadata": {},
   "source": [
    "In the following part, Davis_Meyer function is called. Define AES object based on your needs. Note that the key to this cipher can be changed later using AES.change_key method."
   ]
  },
  {
   "cell_type": "code",
   "execution_count": 210,
   "metadata": {},
   "outputs": [
    {
     "name": "stdout",
     "output_type": "stream",
     "text": [
      "292732210552835517735766319962395251221\n"
     ]
    }
   ],
   "source": [
    "AES = AES(blocks1[0])\n",
    "Hash = Davis_Meyer(blocks1,0x00,AES)\n",
    "print(Hash)"
   ]
  },
  {
   "cell_type": "markdown",
   "metadata": {},
   "source": [
    "Here we define a key to be used with the secret prefix MAC. redefine blocks1 to include the key needed for the computation of the MAC."
   ]
  },
  {
   "cell_type": "code",
   "execution_count": 211,
   "metadata": {},
   "outputs": [],
   "source": [
    "key = 0x2b7e151628aed2a6abf7158809cf4f3c\n",
    "binary_key = bin(key)[2:]\n",
    "\n",
    "i=0\n",
    "while i <= 128 - len(binary_key):\n",
    "    binary_key = \"0\" + binary_key\n",
    "    i +=1\n",
    "\n",
    "text_key  = ''.join(chr(int(binary_key[i*8:i*8+8],2)) for i in range(len(binary_key)//8))\n",
    "string1 = text_key + string1\n",
    "blocks1 = processMessage(string1)"
   ]
  },
  {
   "cell_type": "markdown",
   "metadata": {},
   "source": [
    "Redefine AES key based upon the new requirements."
   ]
  },
  {
   "cell_type": "code",
   "execution_count": 212,
   "metadata": {},
   "outputs": [
    {
     "name": "stdout",
     "output_type": "stream",
     "text": [
      "311208175875453464655941554065473466076\n"
     ]
    }
   ],
   "source": [
    "AES.change_key(blocks1[0])\n",
    "MAC1 = Davis_Meyer(blocks1,0x00,AES)\n",
    "print(MAC1)"
   ]
  },
  {
   "cell_type": "markdown",
   "metadata": {},
   "source": [
    "To implement the attack, enter a desired line of input to be appended to the original message."
   ]
  },
  {
   "cell_type": "code",
   "execution_count": 213,
   "metadata": {},
   "outputs": [],
   "source": [
    "#string2 = input('please enter a line of input:')\n",
    "string2 = \"bbbbbbbbbbbbbbbb\"\n",
    "blocks2 = processMessage(string2)"
   ]
  },
  {
   "cell_type": "markdown",
   "metadata": {},
   "source": [
    "Redefine AES key and H0 based upon the new requirements."
   ]
  },
  {
   "cell_type": "code",
   "execution_count": 214,
   "metadata": {},
   "outputs": [
    {
     "name": "stdout",
     "output_type": "stream",
     "text": [
      "145371439773810286425444348824138725884\n"
     ]
    }
   ],
   "source": [
    "AES.change_key(blocks2[0])\n",
    "H0 = MAC1\n",
    "MAC2 = Davis_Meyer(blocks2,H0,AES)\n",
    "print(MAC2)"
   ]
  },
  {
   "cell_type": "markdown",
   "metadata": {},
   "source": [
    "Defining string3 for checking the success of the attack and verifying the validity of MAC2 in previous part. redefine blocks3 to include the key needed for the computation of the MAC."
   ]
  },
  {
   "cell_type": "code",
   "execution_count": 215,
   "metadata": {},
   "outputs": [],
   "source": [
    "string3 = string1+string2\n",
    "blocks3 = processMessage(string3)\n"
   ]
  },
  {
   "cell_type": "markdown",
   "metadata": {},
   "source": [
    "Redefine AES key based upon the new requirements. This key should be the same as the one in part b."
   ]
  },
  {
   "cell_type": "code",
   "execution_count": 216,
   "metadata": {},
   "outputs": [
    {
     "name": "stdout",
     "output_type": "stream",
     "text": [
      "145371439773810286425444348824138725884\n",
      "True\n"
     ]
    }
   ],
   "source": [
    "AES.change_key(blocks1[0])\n",
    "MAC3 = Davis_Meyer(blocks3,0x00,AES)\n",
    "print(MAC3)\n",
    "print(MAC3 == MAC2)"
   ]
  }
 ],
 "metadata": {
  "kernelspec": {
   "display_name": "Python 3",
   "language": "python",
   "name": "python3"
  },
  "language_info": {
   "codemirror_mode": {
    "name": "ipython",
    "version": 3
   },
   "file_extension": ".py",
   "mimetype": "text/x-python",
   "name": "python",
   "nbconvert_exporter": "python",
   "pygments_lexer": "ipython3",
   "version": "3.7.3"
  }
 },
 "nbformat": 4,
 "nbformat_minor": 2
}
